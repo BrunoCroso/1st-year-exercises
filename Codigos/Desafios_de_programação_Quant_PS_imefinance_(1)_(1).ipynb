{
  "cells": [
    {
      "cell_type": "markdown",
      "metadata": {
        "id": "xM5BAUdgjwCm"
      },
      "source": [
        "Não é necessário fazer todas as questões para passar no processo seletivo. Se não conseguir fazer alguma, fique tranquilo, deixamos mais opções para deixar o processo o mais aberto e flexível possível."
      ]
    },
    {
      "cell_type": "markdown",
      "metadata": {
        "id": "CEX50VGf4pSn"
      },
      "source": [
        "# Questão 1\n",
        "Nesta questão você deve apenas obter algumas métricas de uma matriz, as questões estão em ordem de forma a facilitar seu progresso\n",
        "\n",
        "a.  Apenas rode o código abaixo(não precisa modificar nada) para obter a base de dados que será usada\n",
        "\n",
        "\n"
      ]
    },
    {
      "cell_type": "code",
      "execution_count": null,
      "metadata": {
        "colab": {
          "base_uri": "https://localhost:8080/",
          "height": 1000
        },
        "id": "x7kdgdby5S5A",
        "outputId": "9ccf715a-45af-48a4-913c-b6aaee09c738"
      },
      "outputs": [
        {
          "name": "stdout",
          "output_type": "stream",
          "text": [
            "Requirement already up-to-date: yfinance in c:\\users\\bruno\\anaconda3\\lib\\site-packages (0.1.63)\n",
            "Requirement already satisfied, skipping upgrade: requests>=2.20 in c:\\users\\bruno\\anaconda3\\lib\\site-packages (from yfinance) (2.24.0)\n",
            "Requirement already satisfied, skipping upgrade: multitasking>=0.0.7 in c:\\users\\bruno\\anaconda3\\lib\\site-packages (from yfinance) (0.0.9)\n",
            "Requirement already satisfied, skipping upgrade: numpy>=1.15 in c:\\users\\bruno\\anaconda3\\lib\\site-packages (from yfinance) (1.19.2)\n",
            "Requirement already satisfied, skipping upgrade: lxml>=4.5.1 in c:\\users\\bruno\\anaconda3\\lib\\site-packages (from yfinance) (4.6.1)\n",
            "Requirement already satisfied, skipping upgrade: pandas>=0.24 in c:\\users\\bruno\\anaconda3\\lib\\site-packages (from yfinance) (1.1.3)\n",
            "Requirement already satisfied, skipping upgrade: certifi>=2017.4.17 in c:\\users\\bruno\\anaconda3\\lib\\site-packages (from requests>=2.20->yfinance) (2020.6.20)\n",
            "Requirement already satisfied, skipping upgrade: urllib3!=1.25.0,!=1.25.1,<1.26,>=1.21.1 in c:\\users\\bruno\\anaconda3\\lib\\site-packages (from requests>=2.20->yfinance) (1.25.11)\n",
            "Requirement already satisfied, skipping upgrade: idna<3,>=2.5 in c:\\users\\bruno\\anaconda3\\lib\\site-packages (from requests>=2.20->yfinance) (2.10)\n",
            "Requirement already satisfied, skipping upgrade: chardet<4,>=3.0.2 in c:\\users\\bruno\\anaconda3\\lib\\site-packages (from requests>=2.20->yfinance) (3.0.4)\n",
            "Requirement already satisfied, skipping upgrade: python-dateutil>=2.7.3 in c:\\users\\bruno\\anaconda3\\lib\\site-packages (from pandas>=0.24->yfinance) (2.8.1)\n",
            "Requirement already satisfied, skipping upgrade: pytz>=2017.2 in c:\\users\\bruno\\anaconda3\\lib\\site-packages (from pandas>=0.24->yfinance) (2020.1)\n",
            "Requirement already satisfied, skipping upgrade: six>=1.5 in c:\\users\\bruno\\anaconda3\\lib\\site-packages (from python-dateutil>=2.7.3->pandas>=0.24->yfinance) (1.15.0)\n",
            "Requirement already satisfied: pandas_datareader in c:\\users\\bruno\\anaconda3\\lib\\site-packages (0.10.0)\n",
            "Requirement already satisfied: pandas>=0.23 in c:\\users\\bruno\\anaconda3\\lib\\site-packages (from pandas_datareader) (1.1.3)\n",
            "Requirement already satisfied: requests>=2.19.0 in c:\\users\\bruno\\anaconda3\\lib\\site-packages (from pandas_datareader) (2.24.0)\n",
            "Requirement already satisfied: lxml in c:\\users\\bruno\\anaconda3\\lib\\site-packages (from pandas_datareader) (4.6.1)\n",
            "Requirement already satisfied: python-dateutil>=2.7.3 in c:\\users\\bruno\\anaconda3\\lib\\site-packages (from pandas>=0.23->pandas_datareader) (2.8.1)\n",
            "Requirement already satisfied: numpy>=1.15.4 in c:\\users\\bruno\\anaconda3\\lib\\site-packages (from pandas>=0.23->pandas_datareader) (1.19.2)\n",
            "Requirement already satisfied: pytz>=2017.2 in c:\\users\\bruno\\anaconda3\\lib\\site-packages (from pandas>=0.23->pandas_datareader) (2020.1)\n",
            "Requirement already satisfied: certifi>=2017.4.17 in c:\\users\\bruno\\anaconda3\\lib\\site-packages (from requests>=2.19.0->pandas_datareader) (2020.6.20)\n",
            "Requirement already satisfied: urllib3!=1.25.0,!=1.25.1,<1.26,>=1.21.1 in c:\\users\\bruno\\anaconda3\\lib\\site-packages (from requests>=2.19.0->pandas_datareader) (1.25.11)\n",
            "Requirement already satisfied: idna<3,>=2.5 in c:\\users\\bruno\\anaconda3\\lib\\site-packages (from requests>=2.19.0->pandas_datareader) (2.10)\n",
            "Requirement already satisfied: chardet<4,>=3.0.2 in c:\\users\\bruno\\anaconda3\\lib\\site-packages (from requests>=2.19.0->pandas_datareader) (3.0.4)\n",
            "Requirement already satisfied: six>=1.5 in c:\\users\\bruno\\anaconda3\\lib\\site-packages (from python-dateutil>=2.7.3->pandas>=0.23->pandas_datareader) (1.15.0)\n",
            "Requirement already satisfied: pandas in c:\\users\\bruno\\anaconda3\\lib\\site-packages (1.1.3)\n",
            "Requirement already satisfied: python-dateutil>=2.7.3 in c:\\users\\bruno\\anaconda3\\lib\\site-packages (from pandas) (2.8.1)\n",
            "Requirement already satisfied: pytz>=2017.2 in c:\\users\\bruno\\anaconda3\\lib\\site-packages (from pandas) (2020.1)\n",
            "Requirement already satisfied: numpy>=1.15.4 in c:\\users\\bruno\\anaconda3\\lib\\site-packages (from pandas) (1.19.2)\n",
            "Requirement already satisfied: six>=1.5 in c:\\users\\bruno\\anaconda3\\lib\\site-packages (from python-dateutil>=2.7.3->pandas) (1.15.0)\n",
            "Requirement already satisfied: datetime in c:\\users\\bruno\\anaconda3\\lib\\site-packages (4.3)\n",
            "Requirement already satisfied: pytz in c:\\users\\bruno\\anaconda3\\lib\\site-packages (from datetime) (2020.1)\n",
            "Requirement already satisfied: zope.interface in c:\\users\\bruno\\anaconda3\\lib\\site-packages (from datetime) (5.1.2)\n",
            "Requirement already satisfied: setuptools in c:\\users\\bruno\\anaconda3\\lib\\site-packages (from zope.interface->datetime) (50.3.1.post20201107)\n",
            "Requirement already satisfied: python-dateutil in c:\\users\\bruno\\anaconda3\\lib\\site-packages (2.8.1)\n",
            "Requirement already satisfied: six>=1.5 in c:\\users\\bruno\\anaconda3\\lib\\site-packages (from python-dateutil) (1.15.0)\n"
          ]
        },
        {
          "data": {
            "text/html": [
              "<div>\n",
              "<style scoped>\n",
              "    .dataframe tbody tr th:only-of-type {\n",
              "        vertical-align: middle;\n",
              "    }\n",
              "\n",
              "    .dataframe tbody tr th {\n",
              "        vertical-align: top;\n",
              "    }\n",
              "\n",
              "    .dataframe thead th {\n",
              "        text-align: right;\n",
              "    }\n",
              "</style>\n",
              "<table border=\"1\" class=\"dataframe\">\n",
              "  <thead>\n",
              "    <tr style=\"text-align: right;\">\n",
              "      <th>Symbols</th>\n",
              "      <th>ABEV3.SA</th>\n",
              "      <th>BBDC4.SA</th>\n",
              "      <th>MGLU3.SA</th>\n",
              "      <th>ITSA4.SA</th>\n",
              "      <th>PETR4.SA</th>\n",
              "      <th>VALE3.SA</th>\n",
              "      <th>^BVSP</th>\n",
              "    </tr>\n",
              "    <tr>\n",
              "      <th>Date</th>\n",
              "      <th></th>\n",
              "      <th></th>\n",
              "      <th></th>\n",
              "      <th></th>\n",
              "      <th></th>\n",
              "      <th></th>\n",
              "      <th></th>\n",
              "    </tr>\n",
              "  </thead>\n",
              "  <tbody>\n",
              "    <tr>\n",
              "      <th>2005-01-14</th>\n",
              "      <td>2.823512</td>\n",
              "      <td>NaN</td>\n",
              "      <td>NaN</td>\n",
              "      <td>1.343088</td>\n",
              "      <td>7.204602</td>\n",
              "      <td>11.543864</td>\n",
              "      <td>24924.000000</td>\n",
              "    </tr>\n",
              "    <tr>\n",
              "      <th>2005-01-17</th>\n",
              "      <td>2.812959</td>\n",
              "      <td>NaN</td>\n",
              "      <td>NaN</td>\n",
              "      <td>1.331096</td>\n",
              "      <td>7.158666</td>\n",
              "      <td>11.396808</td>\n",
              "      <td>24515.000000</td>\n",
              "    </tr>\n",
              "    <tr>\n",
              "      <th>2005-01-18</th>\n",
              "      <td>2.823512</td>\n",
              "      <td>NaN</td>\n",
              "      <td>NaN</td>\n",
              "      <td>1.328097</td>\n",
              "      <td>7.082102</td>\n",
              "      <td>11.499747</td>\n",
              "      <td>24089.000000</td>\n",
              "    </tr>\n",
              "    <tr>\n",
              "      <th>2005-01-19</th>\n",
              "      <td>2.781212</td>\n",
              "      <td>NaN</td>\n",
              "      <td>NaN</td>\n",
              "      <td>1.352082</td>\n",
              "      <td>7.124214</td>\n",
              "      <td>11.426221</td>\n",
              "      <td>24271.000000</td>\n",
              "    </tr>\n",
              "    <tr>\n",
              "      <th>2005-01-20</th>\n",
              "      <td>2.717765</td>\n",
              "      <td>NaN</td>\n",
              "      <td>NaN</td>\n",
              "      <td>1.319103</td>\n",
              "      <td>6.963431</td>\n",
              "      <td>11.308577</td>\n",
              "      <td>23610.000000</td>\n",
              "    </tr>\n",
              "    <tr>\n",
              "      <th>...</th>\n",
              "      <td>...</td>\n",
              "      <td>...</td>\n",
              "      <td>...</td>\n",
              "      <td>...</td>\n",
              "      <td>...</td>\n",
              "      <td>...</td>\n",
              "      <td>...</td>\n",
              "    </tr>\n",
              "    <tr>\n",
              "      <th>2021-09-08</th>\n",
              "      <td>16.209999</td>\n",
              "      <td>21.110001</td>\n",
              "      <td>18.790001</td>\n",
              "      <td>10.920000</td>\n",
              "      <td>24.969999</td>\n",
              "      <td>95.040001</td>\n",
              "      <td>113413.000000</td>\n",
              "    </tr>\n",
              "    <tr>\n",
              "      <th>2021-09-09</th>\n",
              "      <td>16.309999</td>\n",
              "      <td>21.200001</td>\n",
              "      <td>18.850000</td>\n",
              "      <td>11.140000</td>\n",
              "      <td>25.500000</td>\n",
              "      <td>94.699997</td>\n",
              "      <td>115361.000000</td>\n",
              "    </tr>\n",
              "    <tr>\n",
              "      <th>2021-09-10</th>\n",
              "      <td>16.100000</td>\n",
              "      <td>20.940001</td>\n",
              "      <td>17.180000</td>\n",
              "      <td>10.980000</td>\n",
              "      <td>25.340000</td>\n",
              "      <td>94.809998</td>\n",
              "      <td>114286.000000</td>\n",
              "    </tr>\n",
              "    <tr>\n",
              "      <th>2021-09-13</th>\n",
              "      <td>16.350000</td>\n",
              "      <td>21.370001</td>\n",
              "      <td>17.440001</td>\n",
              "      <td>11.130000</td>\n",
              "      <td>26.230000</td>\n",
              "      <td>94.760002</td>\n",
              "      <td>116404.000000</td>\n",
              "    </tr>\n",
              "    <tr>\n",
              "      <th>2021-09-14</th>\n",
              "      <td>16.500000</td>\n",
              "      <td>21.350000</td>\n",
              "      <td>16.879999</td>\n",
              "      <td>11.140000</td>\n",
              "      <td>26.010000</td>\n",
              "      <td>94.519997</td>\n",
              "      <td>116699.601562</td>\n",
              "    </tr>\n",
              "  </tbody>\n",
              "</table>\n",
              "<p>4138 rows × 7 columns</p>\n",
              "</div>"
            ],
            "text/plain": [
              "Symbols      ABEV3.SA   BBDC4.SA   MGLU3.SA   ITSA4.SA   PETR4.SA   VALE3.SA  \\\n",
              "Date                                                                           \n",
              "2005-01-14   2.823512        NaN        NaN   1.343088   7.204602  11.543864   \n",
              "2005-01-17   2.812959        NaN        NaN   1.331096   7.158666  11.396808   \n",
              "2005-01-18   2.823512        NaN        NaN   1.328097   7.082102  11.499747   \n",
              "2005-01-19   2.781212        NaN        NaN   1.352082   7.124214  11.426221   \n",
              "2005-01-20   2.717765        NaN        NaN   1.319103   6.963431  11.308577   \n",
              "...               ...        ...        ...        ...        ...        ...   \n",
              "2021-09-08  16.209999  21.110001  18.790001  10.920000  24.969999  95.040001   \n",
              "2021-09-09  16.309999  21.200001  18.850000  11.140000  25.500000  94.699997   \n",
              "2021-09-10  16.100000  20.940001  17.180000  10.980000  25.340000  94.809998   \n",
              "2021-09-13  16.350000  21.370001  17.440001  11.130000  26.230000  94.760002   \n",
              "2021-09-14  16.500000  21.350000  16.879999  11.140000  26.010000  94.519997   \n",
              "\n",
              "Symbols             ^BVSP  \n",
              "Date                       \n",
              "2005-01-14   24924.000000  \n",
              "2005-01-17   24515.000000  \n",
              "2005-01-18   24089.000000  \n",
              "2005-01-19   24271.000000  \n",
              "2005-01-20   23610.000000  \n",
              "...                   ...  \n",
              "2021-09-08  113413.000000  \n",
              "2021-09-09  115361.000000  \n",
              "2021-09-10  114286.000000  \n",
              "2021-09-13  116404.000000  \n",
              "2021-09-14  116699.601562  \n",
              "\n",
              "[4138 rows x 7 columns]"
            ]
          },
          "metadata": {},
          "output_type": "display_data"
        }
      ],
      "source": [
        "!pip install yfinance --upgrade --no-cache-dir\n",
        "!pip install pandas_datareader\n",
        "!pip install pandas\n",
        "!pip install datetime\n",
        "!pip install python-dateutil\n",
        "\n",
        "import yfinance as yf\n",
        "import pandas as pd\n",
        "import datetime as dt\n",
        "import pandas_datareader.data as web\n",
        "from dateutil.relativedelta import relativedelta as rltd\n",
        "\n",
        "\n",
        "tickers = ['ABEV3.SA', 'BBDC4.SA', 'MGLU3.SA','ITSA4.SA', \"PETR4.SA\", \"VALE3.SA\",'^BVSP']\n",
        "today = dt.date.today()\n",
        "startDate = today - rltd(months = 200)\n",
        "\n",
        "base = web.get_data_yahoo(tickers, startDate, today)\n",
        "base = base[\"Adj Close\"]\n",
        "\n",
        "display(base)"
      ]
    },
    {
      "cell_type": "markdown",
      "metadata": {
        "id": "YOha2_hC7rEO"
      },
      "source": [
        "b. Essa base de dados possui os preços de fechamento das ações da Ambev, Bradesco, Magazine Luiza, Itau, Petrobrás, Vale e do índice Bovespa (uma média ponderada que busca representar a bolsa de valores como um todo).\n",
        "\n",
        " Utilzamos normalmente uma biblioteca do Python chamada Pandas, ela nos dá uma série de funções para lidar com bases de dados. Em geral, ele funciona em alguns casos como uma lista de listas e em outros como um dicionário, na maioria das vezes como ambos de forma intercambiável.\n",
        "\n",
        " Para um começo de análise queremos que você obtenha o preço médio de no mínimo uma dessas ações (mas sinta-se livre para fazer de todas) durante todo o período disponível. Aqui você poderá tanto utilizar funções do Pandas quanto tentar programar manualmente o cálculo da média.\n",
        "\n",
        " Caso queira mais informações sobre o Pandas:https://pandas.pydata.org/docs/\n"
      ]
    },
    {
      "cell_type": "code",
      "execution_count": null,
      "metadata": {
        "id": "bCphozD-HW4m",
        "scrolled": true,
        "outputId": "aeac524d-1f9f-4327-beb7-41937d012dcf"
      },
      "outputs": [
        {
          "name": "stdout",
          "output_type": "stream",
          "text": [
            "Symbols\n",
            "ABEV3.SA    10.016915\n",
            "BBDC4.SA    14.601547\n",
            "MGLU3.SA     4.508590\n",
            "ITSA4.SA     5.312478\n",
            "PETR4.SA    16.862379\n",
            "VALE3.SA    30.250970\n",
            "dtype: float64\n"
          ]
        }
      ],
      "source": [
        "print(base.mean()[0:6])"
      ]
    },
    {
      "cell_type": "markdown",
      "metadata": {
        "id": "eNTzQZbMHXX0"
      },
      "source": [
        "c. Vamos obter mais algumas métricas antes de começar  a mexer nos dados. Selecione uma ou mais ações e obtenha a variância, mediana e moda de cada uma das suas escolhidas.\n",
        "\n",
        "\n"
      ]
    },
    {
      "cell_type": "code",
      "execution_count": null,
      "metadata": {
        "id": "DTQes5Vq-T0M",
        "outputId": "61b5e53b-f2cd-4cb5-bd2e-ec2041dedc42"
      },
      "outputs": [
        {
          "name": "stdout",
          "output_type": "stream",
          "text": [
            "Variancia das ações: \n",
            "Symbols\n",
            "ABEV3.SA     38.296500\n",
            "BBDC4.SA     40.760375\n",
            "MGLU3.SA     52.989557\n",
            "ITSA4.SA      9.396388\n",
            "PETR4.SA     35.499307\n",
            "VALE3.SA    363.183844\n",
            "dtype: float64\n",
            "\n",
            "Mediana das ações: \n",
            "Symbols\n",
            "ABEV3.SA    11.972985\n",
            "BBDC4.SA    12.171640\n",
            "MGLU3.SA     0.366229\n",
            "ITSA4.SA     4.043848\n",
            "PETR4.SA    16.056280\n",
            "VALE3.SA    25.869511\n",
            "dtype: float64\n",
            "\n",
            "Moda das ações (as ações que apresentam mais de uma moda são bimodais ou trimodais): \n",
            "Symbols  ABEV3.SA  BBDC4.SA  MGLU3.SA  ITSA4.SA   PETR4.SA   VALE3.SA    ^BVSP\n",
            "0        1.999427  8.646852  0.212858  2.457812  17.724997  14.087924  45533.0\n",
            "1        2.728338       NaN       NaN  2.763673        NaN  14.558501  49246.0\n",
            "2             NaN       NaN       NaN       NaN        NaN        NaN  56097.0\n"
          ]
        }
      ],
      "source": [
        "print('Variancia das ações: ')\n",
        "print(base.var()[0:6])\n",
        "print('\\nMediana das ações: ')\n",
        "print(base.median()[0:6])\n",
        "print('\\nModa das ações (as ações que apresentam mais de uma moda são bimodais ou trimodais): ')\n",
        "print(base.mode()[0:6])"
      ]
    },
    {
      "cell_type": "markdown",
      "metadata": {
        "id": "Em_3xY9N8ZRC"
      },
      "source": [
        "d. Agora, tendo as médias gerais, vamos dar um passo a frente. Queremos calcular a média apenas dos últimos 180 dias. Novamente, faça no mínimo de uma das ações, mas sinta-se livre para fazer das outras.\n",
        "\n",
        "Após isso, faça o mesmo para 5 e 30 dias e outros períodos que você considere interessante (Detalhe que a base de dados só vai até 200 meses anteriores ao dia atual). Armazene todos os resultados em variáveis com nomes adequados.\n",
        "\n"
      ]
    },
    {
      "cell_type": "code",
      "execution_count": null,
      "metadata": {
        "id": "qSgfvDypBLKo",
        "outputId": "8d70de1f-1a6d-45fb-af51-fe2573d3f4d8"
      },
      "outputs": [
        {
          "name": "stdout",
          "output_type": "stream",
          "text": [
            "Média das ações nos últimos 180 dias: \n",
            "Symbols\n",
            "ABEV3.SA     16.400265\n",
            "BBDC4.SA     23.664997\n",
            "MGLU3.SA     21.835880\n",
            "ITSA4.SA     10.826501\n",
            "PETR4.SA     24.786088\n",
            "VALE3.SA    101.143674\n",
            "dtype: float64\n",
            "\n",
            "Média das ações nos últimos 5 dias: \n",
            "Symbols\n",
            "ABEV3.SA    16.294000\n",
            "BBDC4.SA    21.194001\n",
            "MGLU3.SA    17.828000\n",
            "ITSA4.SA    11.062000\n",
            "PETR4.SA    25.610000\n",
            "VALE3.SA    94.765999\n",
            "dtype: float64\n",
            "\n",
            "Média das ações nos últimos 30 dias: \n",
            "Symbols\n",
            "ABEV3.SA     16.832333\n",
            "BBDC4.SA     22.783346\n",
            "MGLU3.SA     19.201000\n",
            "ITSA4.SA     11.309402\n",
            "PETR4.SA     26.719420\n",
            "VALE3.SA    102.133333\n",
            "dtype: float64\n",
            "\n",
            "Média das ações nos últimos 900 dias: \n",
            "Symbols\n",
            "ABEV3.SA    16.290301\n",
            "BBDC4.SA    23.601582\n",
            "MGLU3.SA    12.113871\n",
            "ITSA4.SA    10.475749\n",
            "PETR4.SA    21.664760\n",
            "VALE3.SA    57.041315\n",
            "dtype: float64\n"
          ]
        }
      ],
      "source": [
        "dimensões = base.shape\n",
        "print('Média das ações nos últimos 180 dias: ')\n",
        "ultimos_180_dias = base.iloc[dimensões[0]-180:dimensões[0],:]\n",
        "print(ultimos_180_dias.mean()[0:6])\n",
        "\n",
        "print('\\nMédia das ações nos últimos 5 dias: ')\n",
        "ultimos_5_dias = base.iloc[dimensões[0]-5:dimensões[0],:]\n",
        "print(ultimos_5_dias.mean()[0:6])\n",
        "\n",
        "print('\\nMédia das ações nos últimos 30 dias: ')\n",
        "ultimos_30_dias = base.iloc[dimensões[0]-30:dimensões[0],:]\n",
        "print(ultimos_30_dias.mean()[0:6])\n",
        "\n",
        "print('\\nMédia das ações nos últimos 900 dias: ')\n",
        "ultimos_900_dias = base.iloc[dimensões[0]-900:dimensões[0],:]\n",
        "print(ultimos_900_dias.mean()[0:6])"
      ]
    },
    {
      "cell_type": "markdown",
      "metadata": {
        "id": "0rZY_wDwBLdz"
      },
      "source": [
        "e. O que estamos fazendo até agora é a versão mais simples de uma estratégia chamada Médias Móveis. Entretanto, como podemos utilizar esses dados para efetivamente tomar uma decisão de compra ou venda?\n",
        "\n",
        "O que iremos fazer é comparar as médias móveis. Se a média de um tempo menor, por exemplo 5 dias, estiver maior que uma média de tempo maior, isto será um sinal de venda, caso contrário será de compra. Escolha no mínimo dois períodos para comparar e gere uma lista de sinais de compra e venda."
      ]
    },
    {
      "cell_type": "code",
      "execution_count": null,
      "metadata": {
        "id": "zejGG4p1CZ5D",
        "scrolled": false,
        "outputId": "9a9c29f9-2433-43e8-fbbf-b1dc6f28d750"
      },
      "outputs": [
        {
          "name": "stdout",
          "output_type": "stream",
          "text": [
            "['Comprar', 'Comprar', 'Comprar', 'Comprar', 'Comprar', 'Comprar', 'Comprar', 'Comprar', 'Comprar', 'Comprar', 'Comprar', 'Comprar', 'Comprar', 'Comprar', 'Comprar', 'Comprar', 'Comprar', 'Comprar', 'Comprar', 'Comprar', 'Comprar', 'Comprar', 'Comprar', 'Comprar', 'Comprar', 'Comprar', 'Comprar', 'Comprar', 'Comprar', 'Comprar', 'Comprar', 'Comprar', 'Comprar', 'Comprar', 'Comprar', 'Comprar', 'Comprar', 'Comprar', 'Comprar', 'Comprar', 'Comprar', 'Comprar', 'Comprar', 'Comprar', 'Comprar', 'Vender', 'Vender', 'Vender', 'Vender', 'Vender', 'Vender', 'Vender', 'Vender', 'Vender', 'Vender', 'Vender', 'Vender', 'Vender', 'Vender', 'Vender']\n",
            "['Comprar', 'Comprar', 'Comprar', 'Comprar', 'Comprar', 'Comprar', 'Comprar', 'Comprar', 'Comprar', 'Comprar', 'Comprar', 'Comprar', 'Comprar', 'Comprar', 'Comprar', 'Comprar', 'Comprar', 'Comprar', 'Comprar', 'Comprar', 'Comprar', 'Comprar', 'Comprar', 'Comprar', 'Comprar', 'Comprar', 'Comprar', 'Comprar', 'Comprar', 'Comprar', 'Comprar', 'Comprar', 'Comprar', 'Comprar', 'Comprar', 'Comprar', 'Comprar', 'Comprar', 'Comprar', 'Comprar', 'Comprar', 'Comprar', 'Comprar', 'Comprar', 'Comprar', 'Comprar', 'Comprar', 'Comprar', 'Comprar', 'Comprar', 'Comprar', 'Comprar', 'Comprar', 'Comprar', 'Comprar', 'Comprar', 'Comprar', 'Comprar', 'Comprar', 'Comprar', 'Comprar', 'Comprar', 'Comprar', 'Comprar', 'Comprar', 'Comprar', 'Comprar', 'Comprar', 'Comprar', 'Comprar', 'Comprar', 'Comprar', 'Comprar', 'Comprar', 'Comprar', 'Comprar', 'Comprar', 'Comprar', 'Comprar', 'Comprar', 'Comprar', 'Comprar', 'Comprar', 'Comprar', 'Comprar', 'Comprar', 'Comprar', 'Comprar', 'Comprar', 'Comprar', 'Comprar', 'Comprar', 'Comprar', 'Comprar', 'Comprar', 'Comprar', 'Comprar', 'Comprar', 'Comprar', 'Comprar', 'Comprar', 'Comprar', 'Comprar', 'Comprar', 'Comprar', 'Comprar', 'Comprar', 'Comprar', 'Comprar', 'Comprar', 'Comprar', 'Comprar', 'Comprar', 'Comprar', 'Comprar', 'Comprar', 'Comprar', 'Comprar', 'Comprar', 'Comprar', 'Comprar', 'Comprar', 'Comprar', 'Comprar', 'Comprar', 'Comprar', 'Comprar', 'Comprar', 'Comprar', 'Comprar', 'Comprar', 'Comprar', 'Comprar', 'Comprar', 'Comprar', 'Comprar', 'Comprar', 'Comprar', 'Comprar', 'Comprar', 'Comprar', 'Comprar', 'Comprar', 'Comprar', 'Comprar', 'Comprar', 'Comprar', 'Comprar', 'Comprar', 'Comprar', 'Comprar', 'Comprar', 'Comprar', 'Comprar', 'Comprar', 'Comprar', 'Comprar', 'Comprar', 'Comprar', 'Comprar', 'Comprar', 'Comprar', 'Comprar', 'Comprar', 'Comprar', 'Comprar', 'Comprar', 'Comprar', 'Comprar', 'Comprar', 'Comprar', 'Comprar', 'Comprar', 'Comprar', 'Comprar', 'Comprar', 'Comprar', 'Comprar', 'Comprar', 'Comprar', 'Comprar', 'Comprar', 'Comprar', 'Comprar', 'Comprar', 'Comprar', 'Comprar', 'Comprar', 'Comprar', 'Comprar', 'Comprar', 'Comprar', 'Comprar', 'Comprar', 'Comprar', 'Comprar', 'Comprar', 'Comprar', 'Comprar', 'Comprar', 'Comprar', 'Comprar', 'Comprar', 'Comprar', 'Comprar', 'Comprar', 'Comprar', 'Comprar', 'Comprar', 'Comprar', 'Comprar', 'Comprar', 'Comprar', 'Comprar', 'Comprar', 'Comprar', 'Comprar', 'Comprar', 'Comprar', 'Comprar', 'Comprar', 'Comprar', 'Comprar', 'Comprar', 'Comprar', 'Comprar', 'Comprar', 'Comprar', 'Comprar', 'Comprar', 'Comprar', 'Comprar', 'Comprar', 'Comprar', 'Comprar', 'Comprar', 'Comprar', 'Comprar', 'Comprar', 'Comprar', 'Comprar', 'Comprar', 'Comprar', 'Comprar', 'Comprar', 'Comprar', 'Comprar', 'Comprar', 'Comprar', 'Comprar', 'Comprar', 'Comprar', 'Comprar', 'Comprar', 'Comprar', 'Comprar', 'Comprar', 'Comprar', 'Comprar', 'Comprar', 'Comprar', 'Comprar', 'Comprar', 'Comprar', 'Comprar', 'Comprar', 'Comprar', 'Comprar', 'Comprar', 'Comprar', 'Comprar', 'Comprar', 'Comprar', 'Comprar', 'Comprar', 'Comprar', 'Comprar', 'Comprar', 'Comprar', 'Comprar', 'Comprar', 'Comprar', 'Comprar', 'Comprar', 'Comprar', 'Vender', 'Vender', 'Vender', 'Vender', 'Vender', 'Vender', 'Vender', 'Vender', 'Vender', 'Vender', 'Vender', 'Vender', 'Vender', 'Vender', 'Vender']\n"
          ]
        }
      ],
      "source": [
        "#Periodo 1: Últimos 2 meses para as ações VALE3.SA:\n",
        "sinais_últimos_2_meses = []\n",
        "for i in range (59,-1,-1):\n",
        "\n",
        "    ultimos_5_dias = base.iloc[dimensões[0]-5-i:dimensões[0]-i,5]\n",
        "    média_menor = float(ultimos_5_dias.mean())\n",
        "\n",
        "    ultimos_180_dias = base.iloc[dimensões[0]-180-i:dimensões[0]-i,5]\n",
        "    média_maior = float(ultimos_180_dias.mean())\n",
        "\n",
        "    if média_menor > média_maior:\n",
        "        sinais_últimos_2_meses.append('Comprar')\n",
        "    elif média_menor < média_maior:\n",
        "        sinais_últimos_2_meses.append('Vender')\n",
        "    elif média_menor == média_menor:\n",
        "        sinais_últimos_2_meses.append('Deixar')\n",
        "\n",
        "print(sinais_últimos_2_meses)\n",
        "\n",
        "#Periodo 2: Últimos 10 meses para as ações VALE3.SA:\n",
        "\n",
        "sinais_últimos_10_meses = []\n",
        "for i in range (299,-1,-1):\n",
        "\n",
        "    ultimos_5_dias = base.iloc[dimensões[0]-5-i:dimensões[0]-i,5]\n",
        "    média_menor = float(ultimos_5_dias.mean())\n",
        "\n",
        "    ultimos_180_dias = base.iloc[dimensões[0]-180-i:dimensões[0]-i,5]\n",
        "    média_maior = float(ultimos_180_dias.mean())\n",
        "\n",
        "    if média_menor > média_maior:\n",
        "        sinais_últimos_10_meses.append('Comprar')\n",
        "    elif média_menor < média_maior:\n",
        "        sinais_últimos_10_meses.append('Vender')\n",
        "    elif média_menor == média_menor:\n",
        "        sinais_últimos_10_meses.append('Deixar')\n",
        "\n",
        "print(sinais_últimos_10_meses)\n"
      ]
    },
    {
      "cell_type": "markdown",
      "metadata": {
        "id": "QXCJPuN4PqPz"
      },
      "source": [
        "f. Apenas os sinais não dizem muita coisa, então crie uma função que receba esses sinais de compra e venda e computa efetivamente o retorno dessa carteira comprando e vendendo as ações de acordo com os sinais. Ressaltamos que o retorno de sua estratégia não será um critério que avaliaremos no processo seletivo.\n",
        "\n",
        "Caso tenha escolhido mais de uma ação ou mais de um conjunto de sinais de peso 1/n para cada sinal de cada ação sendo n = número de conjunto de perídos * número de ações\n",
        "\n",
        "Considere apenas o preço de compra e venda das ações, desconsiderando quaisquer ganhos advindos de dividendos ou outras fontes.\n"
      ]
    },
    {
      "cell_type": "code",
      "execution_count": null,
      "metadata": {
        "id": "uTZRawKFPrs_",
        "outputId": "765d025d-0f74-40f1-88df-86c6342ed50b"
      },
      "outputs": [
        {
          "name": "stdout",
          "output_type": "stream",
          "text": [
            "Exemplo: Caso fosse aplicado o método das médias moveis nos últimos 10 meses para as ações VALE3.SA, iniciando com 1000 ações e \n",
            "comprando/vendendo 1/(300) do total de ações no momento a cada sinal de compra ou venda, teria-se o seguinte resultado: \n",
            "A quantidade de dinheiro ganho diretamente seria aproximadamente -108994.00 reais\n",
            "Ao final, teria-se um total de 2227 ações, estas valendo aproximadamente 210496.00 reais\n",
            "Considerando-se o valor das ações ao final, o lucro obtido no período seria de aproximadamente 51395.00 reais (aproximadamente 202% de lucro)\n",
            "\n",
            "Esta função pode ser utilizada fornecendo qualquer lista de sinais (referente a um período) e um número de ações iniciais.\n"
          ]
        }
      ],
      "source": [
        "def carteira(ações_iniciais,sinais):\n",
        "    '''\n",
        "    (int,list) -> (float, int, float, float)\n",
        "    Recebe um número inteiro referente à quantidade iniciais de ações e uma lista de sinais de compra e venda e retorna\n",
        "    o a quantidade de dinheiro ganho, a quantidade de ações obtidas ao final do processo, o valor destas ações, o lucro total e\n",
        "    o lucro relativo obtido (caso fosse utilizado o método de médias moveis).\n",
        "    '''\n",
        "    valores = base.iloc[dimensões[0]-len(sinais):dimensões[0],5]\n",
        "    ações = ações_iniciais\n",
        "    lucro = 0\n",
        "    dia = 0\n",
        "    for i in sinais:\n",
        "        movimentação = int(ações/(len(sinais)))\n",
        "        if i == 'Comprar':\n",
        "            ações += movimentação\n",
        "            lucro -= valores[dia] * movimentação\n",
        "        elif i == 'Vender':\n",
        "            ações -= movimentação\n",
        "            lucro += valores[dia] * movimentação\n",
        "        dia += 1\n",
        "\n",
        "    lucro_direto = lucro\n",
        "    ações_finais = ações\n",
        "    valor_ações = ações*valores[len(sinais)-1]\n",
        "    lucro_real = lucro_direto + ((valor_ações)-(ações_iniciais*valores[0]))\n",
        "    lucro_relativo = ((lucro_real + (ações_iniciais*valores[0]))/(ações_iniciais*valores[0]))\n",
        "    return lucro_direto,ações_finais,valor_ações,lucro_real,lucro_relativo\n",
        "\n",
        "resultado_10_meses = carteira(1000,sinais_últimos_10_meses)\n",
        "\n",
        "print('''Exemplo: Caso fosse aplicado o método das médias moveis nos últimos 10 meses para as ações VALE3.SA, iniciando com 1000 ações e\n",
        "comprando/vendendo 1/(300) do total de ações no momento a cada sinal de compra ou venda, teria-se o seguinte resultado: ''')\n",
        "print(f'A quantidade de dinheiro ganho diretamente seria aproximadamente {int(resultado_10_meses[0])}.00 reais')\n",
        "print(f'Ao final, teria-se um total de {resultado_10_meses[1]} ações, estas valendo aproximadamente {int(resultado_10_meses[2])}.00 reais')\n",
        "print(f'Considerando-se o valor das ações ao final, o lucro obtido no período seria de aproximadamente {int(resultado_10_meses[3])}.00 reais (aproximadamente {int(resultado_10_meses[4]*100)}% de lucro)')\n",
        "print()\n",
        "print('Esta função pode ser utilizada fornecendo qualquer lista de sinais (referente a um período) e um número de ações iniciais.')"
      ]
    },
    {
      "cell_type": "markdown",
      "metadata": {
        "id": "gxTptO8IB9e9"
      },
      "source": [
        "g. Parte importante é testar se a estratégia funciona. Faça uma função que compara os retornos da sua estratégia de médias móveis com retornos do Índice Bovespa, que está na lista de ativos da matriz obtida no item (a)."
      ]
    },
    {
      "cell_type": "code",
      "execution_count": null,
      "metadata": {
        "id": "pgRMOM1hDdId",
        "outputId": "1b0104ad-00b2-4a06-9db3-2d49a6c37924"
      },
      "outputs": [
        {
          "name": "stdout",
          "output_type": "stream",
          "text": [
            "Para saber se a estratégia funciona, o lucro relativo obtido por ela (capital final/capital inicial) deve ser o\n",
            "igual ou maior que a valorização do índice Bovespa no periodo investigado. Assim, tem-se a seguinte função: \n",
            "Exemplo: Verificando se o exemplo da questão f foi eficiente: \n",
            "True\n"
          ]
        }
      ],
      "source": [
        "print('''Para saber se a estratégia funciona, o lucro relativo obtido por ela (capital final/capital inicial) deve ser o\n",
        "igual ou maior que a valorização do índice Bovespa no periodo investigado. Assim, tem-se a seguinte função: ''')\n",
        "\n",
        "def comparação(lucro_relativo,periodo):\n",
        "    '''\n",
        "    (float,int) -> (bool)\n",
        "    Recebe o lucro relativo obtido pelo método de médias moveis e o número de dias (da data mais recente para trás) em que\n",
        "    foi aplicado o método, e retorna True caso a estratégia tenha sido eficiente e False caso contrário.\n",
        "    '''\n",
        "    Bovespa = base.iloc[dimensões[0]-periodo:dimensões[0],6]\n",
        "    if lucro_relativo >= (Bovespa[periodo-1]/Bovespa[0]):\n",
        "        return True\n",
        "    else:\n",
        "        return False\n",
        "\n",
        "print('Exemplo: Verificando se o exemplo da questão f foi eficiente: ')\n",
        "print(comparação(resultado_10_meses[4],300))"
      ]
    },
    {
      "cell_type": "markdown",
      "metadata": {
        "id": "fTZF6xMwE96o"
      },
      "source": [
        "h. Vamos fazer alguns gráficos para visualizar melhor. Utilizando a biblioteca matplotlib crie alguns gráficos que comparem a trajetória da sua seleção de ações com a trajetória de retorno do Índice Bovespa."
      ]
    },
    {
      "cell_type": "code",
      "execution_count": null,
      "metadata": {
        "id": "LWNTTsPNjwCt",
        "outputId": "7c8aea12-deaa-4f21-afa4-a92f4393f5a5"
      },
      "outputs": [
        {
          "data": {
            "image/png": "[encoded data removed]",
            "text/plain": [
              "<Figure size 432x288 with 1 Axes>"
            ]
          },
          "metadata": {
            "needs_background": "light"
          },
          "output_type": "display_data"
        },
        {
          "data": {
            "image/png": "[encoded data removed]",
            "text/plain": [
              "<Figure size 432x288 with 1 Axes>"
            ]
          },
          "metadata": {
            "needs_background": "light"
          },
          "output_type": "display_data"
        },
        {
          "data": {
            "image/png": "[encoded data removed]",
            "text/plain": [
              "<Figure size 432x288 with 1 Axes>"
            ]
          },
          "metadata": {
            "needs_background": "light"
          },
          "output_type": "display_data"
        },
        {
          "name": "stdout",
          "output_type": "stream",
          "text": [
            "* O último gráfico não faz uma comparação por tempo.\n"
          ]
        }
      ],
      "source": [
        "#Comparação do lucro Relativo obtido caso fosse aplicada a estratégia para as ações VALE3.SA em relação com se fosse aplicada com retorno igual ao do índice bovespa nos últimos 10 meses:\n",
        "import matplotlib.pyplot as plt\n",
        "\n",
        "VALE = base.iloc[dimensões[0]-301:dimensões[0],5]\n",
        "BOVESPA = base.iloc[dimensões[0]-301:dimensões[0],6]\n",
        "dias = []\n",
        "for i in range (300):\n",
        "    dias.append(i)\n",
        "\n",
        "valorização_VALE = []\n",
        "ações = 1000\n",
        "sinais = sinais_últimos_10_meses\n",
        "lucro = 0\n",
        "valor_inicial = 1000 * VALE[0]\n",
        "valor_ações = 1000 * VALE[0]\n",
        "dia = 0\n",
        "for i in sinais:\n",
        "    movimentação = int(ações/(len(sinais)))\n",
        "    if i == 'Comprar':\n",
        "        ações += movimentação\n",
        "        lucro -= VALE[dia] * movimentação\n",
        "    elif i == 'Vender':\n",
        "        ações -= movimentação\n",
        "        lucro += VALE[dia] * movimentação\n",
        "    dia += 1\n",
        "\n",
        "    valor_ações = [ações * VALE[dia]]\n",
        "    valor_total = valor_ações + lucro\n",
        "    relativo = valor_total/valor_inicial\n",
        "    valorização_VALE.append(relativo)\n",
        "\n",
        "\n",
        "\n",
        "valorização_BOVESPA = []\n",
        "valor_inicial = BOVESPA[0]\n",
        "for i in range (300):\n",
        "    valorização = BOVESPA[i]/valor_inicial\n",
        "    valorização_BOVESPA.append(valorização)\n",
        "\n",
        "grafico_bovespa = plt.scatter(dias,valorização_BOVESPA)\n",
        "plt.title('Valorização BOVESPA X Tempo (dias)')\n",
        "plt.show()\n",
        "\n",
        "\n",
        "grafico_vale= plt.scatter(dias,valorização_VALE)\n",
        "plt.title('Valorização pela estratégia X Tempo (dias)')\n",
        "plt.show()\n",
        "\n",
        "comparação = plt.scatter(valorização_VALE,valorização_BOVESPA)\n",
        "plt.title('Valorização BOVESPA X Valorização pela estratégia')\n",
        "plt.show()\n",
        "\n",
        "print('* O último gráfico não faz uma comparação por tempo.')"
      ]
    },
    {
      "cell_type": "markdown",
      "metadata": {
        "id": "iI655C2TN6MV"
      },
      "source": [
        "i.  Sabemos que não é apenas o resultado final que importa: o caminho que tomamos para chegar lá também é importante. Assim, vamos verificar quão bom foi o caminho que tomamos para obter nossos resultados com mais algumas métricas.\n",
        "\n",
        "Crie uma função que obtém o ponto em que a carteira teve o MENOR valor\n",
        "\n",
        "Crie outra função que obtém o ponto em que  carteira teve seu MAIOR valor\n",
        "\n",
        "Crie uma última função que obtém a variância que esta carteira teve durante o período de utilização da estratégia"
      ]
    },
    {
      "cell_type": "code",
      "execution_count": null,
      "metadata": {
        "id": "iHIGbIKtN53x",
        "outputId": "13a5889f-c499-4d11-f64e-b7ebcb6fe28b"
      },
      "outputs": [
        {
          "name": "stdout",
          "output_type": "stream",
          "text": [
            "Exemplo:\n",
            "Para 1000 ações inicíais aplicadas nos últimos 3 meses na VALE:\n",
            "Mínimo aproximado: 49115\t Máximo aproximado: 153365\t Variancia: 1146355446.858939\n"
          ]
        }
      ],
      "source": [
        "#Função que retorna o valor da carteira a cada dia no período em questão (investindo-se na VALE):\n",
        "\n",
        "def valores(ações_iniciais,sinais):\n",
        "    '''\n",
        "    (int,list) -> (list)\n",
        "\n",
        "    Recebe a quantidade de ações iniciais e uma lista de sinais e retorna o valor total da carteira a cada dia\n",
        "    '''\n",
        "    dias = len(sinais)\n",
        "    VALE = base.iloc[dimensões[0]-dias-1:dimensões[0],5]\n",
        "\n",
        "    lucro = 0\n",
        "    valor_inicial = 1000 * VALE[0]\n",
        "    valor_ações = 1000 * VALE[0]\n",
        "    valores = [valor_inicial]\n",
        "    ações = ações_iniciais\n",
        "    dia = 0\n",
        "    for i in sinais:\n",
        "        movimentação = int(ações/(len(sinais)))\n",
        "        if i == 'Comprar':\n",
        "            ações += movimentação\n",
        "            lucro -= VALE[dia] * movimentação\n",
        "        elif i == 'Vender':\n",
        "            ações -= movimentação\n",
        "            lucro += VALE[dia] * movimentação\n",
        "        dia += 1\n",
        "\n",
        "        valor_ações = [ações * VALE[dia]]\n",
        "        valor_total = float(valor_ações + lucro)\n",
        "        valores.append(valor_total)\n",
        "    return valores\n",
        "\n",
        "def menor_valor(ações_iniciais,sinais):\n",
        "    minimo = min(valores(ações_iniciais,sinais))\n",
        "    return minimo\n",
        "\n",
        "def maior_valor(ações_iniciais,sinais):\n",
        "    maximo = max(valores(ações_iniciais,sinais))\n",
        "    return maximo\n",
        "\n",
        "def variancia_periodo(ações_iniciais,sinais):\n",
        "    lista = valores(ações_iniciais,sinais)\n",
        "    soma = 0\n",
        "    for i in lista:\n",
        "        soma += float(i)\n",
        "    media = soma/(len(lista))\n",
        "\n",
        "    diferença_quadrada = 0\n",
        "    for i in lista:\n",
        "        diferença_quadrada += ((i-media)*(i-media))\n",
        "\n",
        "    variancia = diferença_quadrada/(len(lista))\n",
        "    return variancia\n",
        "\n",
        "\n",
        "print('Exemplo:')\n",
        "print('Para 1000 ações inicíais aplicadas nos últimos 3 meses na VALE:')\n",
        "print(f'Mínimo aproximado: {int(menor_valor(1000,sinais_últimos_10_meses))}\\t Máximo aproximado: {int(maior_valor(1000,sinais_últimos_10_meses))}\\t Variancia: {variancia_periodo(1000,sinais_últimos_10_meses)}')\n"
      ]
    },
    {
      "cell_type": "markdown",
      "metadata": {
        "id": "OuMQLnj1DSlN"
      },
      "source": [
        "# Questão 2\n",
        "\n",
        "Uma estratégia de momentum tenta explorar uma falha à hipótese de mercados eficientes. Ela sugere que ativos têm inércia nos movimentos de seus preços, isto é, ações que estão subindo tendem a continuar subindo e as cujo preço está caindo tendem a continuar caindo. Dessa forma, seria possível lucrar apenas seguindo as tendências do mercado, comprando quem está subindo e vendendo quem está caindo, desde que haja suficiente rapidez na percepção desses movimentos.\n",
        "\n",
        "Desenvolva abaixo uma estratégia que crie uma carteira mensal que acompanha os movimentos do mercado utilizando como retorno apenas a mudança do preço das ações, ou seja, desconsidere dividendos.\n",
        "\n",
        "A carteira deve conter apenas ações do IBOV ou do S&P500 e um mínimo de 10 ativos e um máximo equivalente ao total das ações disponíveis nas cestas desses indíces. Caso tenha feito alguma seleção específica de ações, é sugerido, mas não requerido, que você escreva um pequeno texto justificando a seleção.\n",
        "\n",
        "O programa deve estar preferencialmente — mas não obrigatoriamente — no formato de classe com suas funções bem nomeadas e comentadas.\n",
        "\n",
        "Utilize gráficos e outras métricas para demonstrar a eficácia ou ineficácia desse método.\n"
      ]
    },
    {
      "cell_type": "code",
      "execution_count": null,
      "metadata": {
        "id": "4T3KI77XQdjS",
        "outputId": "968a636c-b58f-4b3c-9e84-425e0a270963"
      },
      "outputs": [
        {
          "name": "stdout",
          "output_type": "stream",
          "text": [
            "Comparação entre a estratégia de momentum e a estratégia de médias moveis: \n"
          ]
        },
        {
          "data": {
            "image/png": "[encoded data removed]",
            "text/plain": [
              "<Figure size 432x288 with 1 Axes>"
            ]
          },
          "metadata": {
            "needs_background": "light"
          },
          "output_type": "display_data"
        },
        {
          "data": {
            "image/png": "[encoded data removed]",
            "text/plain": [
              "<Figure size 432x288 with 1 Axes>"
            ]
          },
          "metadata": {
            "needs_background": "light"
          },
          "output_type": "display_data"
        },
        {
          "data": {
            "image/png": "[encoded data removed]",
            "text/plain": [
              "<Figure size 432x288 with 1 Axes>"
            ]
          },
          "metadata": {
            "needs_background": "light"
          },
          "output_type": "display_data"
        }
      ],
      "source": [
        "class Momentum:\n",
        "\n",
        "    def __init__(self, base_de_dados, ações = 10, dinheiro_inicial = 0, data_inicial = 1, empresa = 1):\n",
        "        '''\n",
        "        (Momentum, int, int, int, int) -> (None)\n",
        "\n",
        "        Função construtora\n",
        "        Recebe como parametros o próprio objeto da classe Momentum, um inteiro (maior ou igual a 10) que representa\n",
        "        o número de ações iniciais, a quantidade de dinheiro líquido inicial, um inteiro que representa a data que\n",
        "        está sendo utilizada (dias a partir de hoje), uma base de dados (em Numpy) com os valores das ações no periodo\n",
        "        desejado e um número inteiro que representa qual ação será utilizada (com base na própria base de dados)\n",
        "        '''\n",
        "        dimensões = base_de_dados.shape\n",
        "\n",
        "        self.ações = ações\n",
        "        self.líquido = dinheiro_inicial\n",
        "        self.base_completa = base_de_dados\n",
        "        self.data = data_inicial\n",
        "        self.dados = base_de_dados.iloc[dimensões[0]-self.data-1:dimensões[0]-self.data+1,empresa]\n",
        "        self.empresa = empresa\n",
        "\n",
        "        if self.dados[1] >= self.dados[0]:\n",
        "            self.comprar = True\n",
        "        else:\n",
        "            self.comprar = False\n",
        "\n",
        "\n",
        "    def __str__(self):\n",
        "        '''\n",
        "        (self) -> (str)\n",
        "\n",
        "        Função chamada quando utiliza-se print() com a classe Momentum\n",
        "        Retorna as possíveis ações em que pode-se investir com base na base de dados fornecida.\n",
        "        '''\n",
        "        for i in range (len(self.base_completa.columns)):\n",
        "            print(f'{i}: {self.base_completa.columns[i]}')\n",
        "        return('')\n",
        "\n",
        "\n",
        "    def investir(self, quantidade = 10):\n",
        "        '''(Momentum, int) -> (None)\n",
        "\n",
        "        Função mutadora\n",
        "        Recebe como parametros um objeto da classe Momentum e a quantidade de ações que devem ser compradas ou vendidas.\n",
        "        Compra ou vende ações baseado no movimento dos preços desta.\n",
        "        '''\n",
        "\n",
        "        if self.comprar == True:\n",
        "            self.ações += quantidade\n",
        "            self.líquido -= (quantidade * self.dados[1])\n",
        "        else:\n",
        "            self.ações -= quantidade\n",
        "            self.líquido += (quantidade * self.dados[1])\n",
        "\n",
        "        self.data -= 1\n",
        "        self.dados = self.base_completa.iloc[dimensões[0]-self.data-1:dimensões[0]-self.data+1,self.empresa]\n",
        "        if self.dados[1] >= self.dados[0]:\n",
        "            self.comprar = True\n",
        "        else:\n",
        "            self.comprar = False\n",
        "\n",
        "\n",
        "\n",
        "\n",
        "teste = Momentum(base,10000,0,50,4)\n",
        "\n",
        "print('Comparação entre a estratégia de momentum e a estratégia de médias moveis: ')\n",
        "\n",
        "ações = []\n",
        "dinheiro = []\n",
        "capital_total = []\n",
        "\n",
        "carteira = Momentum(base,10000,0,300,5)\n",
        "carteira.investir(carteira.ações//300)\n",
        "ações.append(carteira.ações)\n",
        "dinheiro.append(carteira.líquido)\n",
        "capital_total.append(carteira.dados[1]*carteira.ações + carteira.líquido)\n",
        "\n",
        "for i in range (298):\n",
        "    carteira.investir(carteira.ações//300)\n",
        "    ações.append(carteira.ações)\n",
        "    dinheiro.append(carteira.líquido)\n",
        "    capital_total.append(carteira.dados[1]*carteira.ações + carteira.líquido)\n",
        "\n",
        "dias = []\n",
        "for i in range (299):\n",
        "    dias.append(i)\n",
        "\n",
        "gráfico_ações = plt.scatter(dias,ações)\n",
        "plt.title('Total de ações X Tempo (dias)')\n",
        "plt.show()\n",
        "\n",
        "gráfico_dinheiro = plt.scatter(dias,dinheiro)\n",
        "plt.title('Total de dinheiro líquido X Tempo (dias)')\n",
        "plt.show()\n",
        "\n",
        "gráfico_capiatl_total = plt.scatter(dias,capital_total)\n",
        "plt.title('Capital total X Tempo (dias)')\n",
        "plt.show()\n"
      ]
    }
  ],
  "metadata": {
    "colab": {
      "provenance": []
    },
    "kernelspec": {
      "display_name": "Python 3",
      "language": "python",
      "name": "python3"
    },
    "language_info": {
      "codemirror_mode": {
        "name": "ipython",
        "version": 3
      },
      "file_extension": ".py",
      "mimetype": "text/x-python",
      "name": "python",
      "nbconvert_exporter": "python",
      "pygments_lexer": "ipython3",
      "version": "3.8.5"
    }
  },
  "nbformat": 4,
  "nbformat_minor": 0
}